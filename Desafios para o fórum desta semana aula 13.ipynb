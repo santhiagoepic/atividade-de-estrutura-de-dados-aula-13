{
 "cells": [
  {
   "cell_type": "markdown",
   "metadata": {},
   "source": [
    "# Implementação do MDC de forma Recursiva"
   ]
  },
  {
   "cell_type": "code",
   "execution_count": 1,
   "metadata": {},
   "outputs": [],
   "source": [
    "# Arquivo: mdc.py\n",
    "def mdc(a, b):\n",
    "    if b == 0:\n",
    "        return a\n",
    "    return mdc(b, a % b)"
   ]
  },
  {
   "cell_type": "markdown",
   "metadata": {},
   "source": [
    "# Inversão de Matriz de forma Recursiva\n",
    "- A inversão de uma matriz de forma recursiva pode ser feita dividindo a matriz em submatrizes menores. A ideia é trocar os elementos da diagonal principal com os elementos da diagonal secundária e depois inverter as linhas da matriz. Aqui está um exemplo simplificado para uma matriz quadrada:"
   ]
  },
  {
   "cell_type": "code",
   "execution_count": 2,
   "metadata": {},
   "outputs": [],
   "source": [
    "# Arquivo: matriz.py\n",
    "def inverter_matriz(matriz):\n",
    "    n = len(matriz)\n",
    "    if n <= 1:\n",
    "        return matriz\n",
    "    for i in range(n):\n",
    "        for j in range(i+1, n):\n",
    "            matriz[i][j], matriz[j][i] = matriz[j][i], matriz[i][j]\n",
    "    for i in range(n//2):\n",
    "        matriz[i], matriz[n-1-i] = matriz[n-1-i], matriz[i]\n",
    "    return matriz"
   ]
  },
  {
   "cell_type": "markdown",
   "metadata": {},
   "source": [
    "# Reflexões sobre Abordagens Não Recursivas\n",
    "- Para ambos os problemas, existem abordagens não recursivas. No caso do MDC, podemos utilizar um loop enquanto houver resto na divisão, e na inversão de matriz, podemos usar loops para percorrer e trocar os elementos."
   ]
  }
 ],
 "metadata": {
  "kernelspec": {
   "display_name": "Python 3",
   "language": "python",
   "name": "python3"
  },
  "language_info": {
   "codemirror_mode": {
    "name": "ipython",
    "version": 3
   },
   "file_extension": ".py",
   "mimetype": "text/x-python",
   "name": "python",
   "nbconvert_exporter": "python",
   "pygments_lexer": "ipython3",
   "version": "3.12.3"
  }
 },
 "nbformat": 4,
 "nbformat_minor": 2
}
