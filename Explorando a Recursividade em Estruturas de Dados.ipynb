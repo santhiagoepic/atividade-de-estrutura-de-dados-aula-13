{
 "cells": [
  {
   "cell_type": "markdown",
   "metadata": {},
   "source": [
    "# Recursividade em Listas\n",
    "- Inversão de uma Lista:\n",
    "A recursão pode ser utilizada para inverter uma lista encadeada. Em cada chamada recursiva, trocamos o primeiro e o último elemento da lista, reduzindo o problema para uma lista menor."
   ]
  },
  {
   "cell_type": "code",
   "execution_count": 1,
   "metadata": {},
   "outputs": [],
   "source": [
    "# Arquivo: listas.py\n",
    "def inverter_lista(lista):\n",
    "    if len(lista) <= 1:\n",
    "        return lista\n",
    "    return inverter_lista(lista[1:]) + [lista[0]]"
   ]
  },
  {
   "cell_type": "markdown",
   "metadata": {},
   "source": [
    "# Recursividade em Pilhas\n",
    "- Desempilhar Recursivamente:\n",
    "Podemos usar a recursão para desempilhar todos os elementos de uma pilha, imprimindo-os ou realizando alguma operação com eles."
   ]
  },
  {
   "cell_type": "code",
   "execution_count": 2,
   "metadata": {},
   "outputs": [],
   "source": [
    "# Arquivo: pilhas.py\n",
    "def desempilhar_tudo(pilha):\n",
    "    if not pilha:\n",
    "        return\n",
    "    item = pilha.pop()\n",
    "    print(item)\n",
    "    desempilhar_tudo(pilha)"
   ]
  },
  {
   "cell_type": "markdown",
   "metadata": {},
   "source": [
    "# Recursividade em Filas\n",
    "- Esvaziar uma Fila:\n",
    "Similar ao exemplo da pilha, podemos esvaziar uma fila recursivamente."
   ]
  },
  {
   "cell_type": "code",
   "execution_count": 3,
   "metadata": {},
   "outputs": [],
   "source": [
    "# Arquivo: filas.py\n",
    "def esvaziar_fila(fila):\n",
    "    if not fila:\n",
    "        return\n",
    "    item = fila.pop(0)\n",
    "    print(item)\n",
    "    esvaziar_fila(fila)"
   ]
  },
  {
   "cell_type": "code",
   "execution_count": null,
   "metadata": {},
   "outputs": [],
   "source": []
  }
 ],
 "metadata": {
  "kernelspec": {
   "display_name": "Python 3",
   "language": "python",
   "name": "python3"
  },
  "language_info": {
   "codemirror_mode": {
    "name": "ipython",
    "version": 3
   },
   "file_extension": ".py",
   "mimetype": "text/x-python",
   "name": "python",
   "nbconvert_exporter": "python",
   "pygments_lexer": "ipython3",
   "version": "3.12.3"
  }
 },
 "nbformat": 4,
 "nbformat_minor": 2
}
